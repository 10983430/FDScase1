{
 "cells": [
  {
   "cell_type": "markdown",
   "metadata": {},
   "source": [
    "## Imports"
   ]
  },
  {
   "cell_type": "code",
   "execution_count": 9,
   "metadata": {},
   "outputs": [],
   "source": [
    "from pprint import pprint\n",
    "import json\n",
    "import pandas as pd\n",
    "import re"
   ]
  },
  {
   "cell_type": "markdown",
   "metadata": {},
   "source": [
    "## Laden van data\n",
    "We hebben een mini file gemaakt, is sneller met testen aangezien alle 600.000 tweets nogal wat ram vereist\n",
    "\n",
    "Dit is dus de data ZONDER de bots\n",
    "\n",
    "Link mini file:\n",
    "https://drive.google.com/file/d/1391zXxC0msq8oAFlIKjKKlvkDx0PZdKz/view?usp=sharing\n",
    "\n",
    "Link grote:\n",
    "https://drive.google.com/file/d/1EM7Z0I8BVwd_ogAUTKaHcbxXRLnQYcTh/view?usp=sharing\n"
   ]
  },
  {
   "cell_type": "code",
   "execution_count": 10,
   "metadata": {},
   "outputs": [
    {
     "name": "stdout",
     "output_type": "stream",
     "text": [
      "Wall time: 17.5 s\n"
     ]
    }
   ],
   "source": [
    "%%time\n",
    "# Verander in de regel hieronder de locatie van de data\n",
    "tweets = pd.read_json(\"mini_twitter_geotagged_clean.json\", orient='records', lines=True)"
   ]
  },
  {
   "cell_type": "code",
   "execution_count": 11,
   "metadata": {},
   "outputs": [
    {
     "data": {
      "text/plain": [
       "46811"
      ]
     },
     "execution_count": 11,
     "metadata": {},
     "output_type": "execute_result"
    }
   ],
   "source": [
    "len(tweets)"
   ]
  },
  {
   "cell_type": "markdown",
   "metadata": {},
   "source": [
    "## Vinden van mentions en hashtags\n",
    "Mentions en hashtags zijn in een aparte kolom geplaatst, zodat deze makkelijk te gebruiken zijn en te koppelen aan Trump en Hilary"
   ]
  },
  {
   "cell_type": "code",
   "execution_count": 28,
   "metadata": {},
   "outputs": [],
   "source": [
    "# Create a new coloumn that contains a list with all the mentions used in the tweet\n",
    "def mentionfinder(row):\n",
    "    mentions = re.findall('(?<![@\\w])@(\\w{1,25})', row[27])\n",
    "    mentions = tuple(mentions)\n",
    "    return mentions\n",
    "\n",
    "tweets['Mentions'] = tweets.apply(lambda row: mentionfinder(row), axis=1)"
   ]
  },
  {
   "cell_type": "code",
   "execution_count": 29,
   "metadata": {},
   "outputs": [],
   "source": [
    "# Create a new coloumn that contains a list with all the hastags used in the tweet\n",
    "def hashtagfinder(row):\n",
    "    hashtags = re.findall('(?:(?<=\\s)|(?<=^))#.*?(?=\\s|$)', row[27]) \n",
    "    hashtags = tuple(hashtags)\n",
    "    return hashtags\n",
    "\n",
    "tweets['Hashtags'] = tweets.apply(lambda row: hashtagfinder(row), axis=1)"
   ]
  },
  {
   "cell_type": "markdown",
   "metadata": {},
   "source": [
    "## Data\n",
    "Kolommen die wij hebben toegevoegt: \n",
    "* CleanText, bevat de tekst zonder hyperlinks, mentions en hashtags\n",
    "* Mentions, bevat mentions\n",
    "* Hashtags, bevat hashtags  \n",
    "\n",
    "Opvallend:\n",
    "* Veel hebben geen coordinaten, contributers etc. Er mist vrij veel data ookal zeiden ze dat deze data gegeotagd was.."
   ]
  },
  {
   "cell_type": "code",
   "execution_count": 30,
   "metadata": {},
   "outputs": [
    {
     "data": {
      "text/html": [
       "<div>\n",
       "<style scoped>\n",
       "    .dataframe tbody tr th:only-of-type {\n",
       "        vertical-align: middle;\n",
       "    }\n",
       "\n",
       "    .dataframe tbody tr th {\n",
       "        vertical-align: top;\n",
       "    }\n",
       "\n",
       "    .dataframe thead th {\n",
       "        text-align: right;\n",
       "    }\n",
       "</style>\n",
       "<table border=\"1\" class=\"dataframe\">\n",
       "  <thead>\n",
       "    <tr style=\"text-align: right;\">\n",
       "      <th></th>\n",
       "      <th>CleanText</th>\n",
       "      <th>contributors</th>\n",
       "      <th>coordinates</th>\n",
       "      <th>created_at</th>\n",
       "      <th>entities</th>\n",
       "      <th>extended_entities</th>\n",
       "      <th>favorite_count</th>\n",
       "      <th>favorited</th>\n",
       "      <th>filter_level</th>\n",
       "      <th>geo</th>\n",
       "      <th>...</th>\n",
       "      <th>quoted_status_id_str</th>\n",
       "      <th>retweet_count</th>\n",
       "      <th>retweeted</th>\n",
       "      <th>source</th>\n",
       "      <th>text</th>\n",
       "      <th>timestamp_ms</th>\n",
       "      <th>truncated</th>\n",
       "      <th>user</th>\n",
       "      <th>Mentions</th>\n",
       "      <th>Hashtags</th>\n",
       "    </tr>\n",
       "  </thead>\n",
       "  <tbody>\n",
       "    <tr>\n",
       "      <th>0</th>\n",
       "      <td>\\n\\n\\nALL IN COLLUSION TOGETHER \\n\\n\\n\\n\\n\\n\\n...</td>\n",
       "      <td>NaN</td>\n",
       "      <td>None</td>\n",
       "      <td>2016-08-12 10:04:02</td>\n",
       "      <td>{'hashtags': [{'text': 'NOJUSTICE', 'indices':...</td>\n",
       "      <td>None</td>\n",
       "      <td>0</td>\n",
       "      <td>False</td>\n",
       "      <td>low</td>\n",
       "      <td>None</td>\n",
       "      <td>...</td>\n",
       "      <td>NaN</td>\n",
       "      <td>0</td>\n",
       "      <td>False</td>\n",
       "      <td>&lt;a href=\"http://twitter.com/download/android\" ...</td>\n",
       "      <td>@BarackObama \\n@FBI\\n@LORETTALYNCH \\nALL IN CO...</td>\n",
       "      <td>2016-08-12 10:04:02.194</td>\n",
       "      <td>False</td>\n",
       "      <td>{'id': 82496193, 'id_str': '82496193', 'name':...</td>\n",
       "      <td>(BarackObama, FBI, LORETTALYNCH, realDonaldTrump)</td>\n",
       "      <td>(#NOJUSTICE, #TrumpPence)</td>\n",
       "    </tr>\n",
       "    <tr>\n",
       "      <th>1</th>\n",
       "      <td>he will do in one year all the things you shou...</td>\n",
       "      <td>NaN</td>\n",
       "      <td>None</td>\n",
       "      <td>2016-08-12 10:04:21</td>\n",
       "      <td>{'hashtags': [], 'urls': [], 'user_mentions': ...</td>\n",
       "      <td>None</td>\n",
       "      <td>0</td>\n",
       "      <td>False</td>\n",
       "      <td>low</td>\n",
       "      <td>None</td>\n",
       "      <td>...</td>\n",
       "      <td>NaN</td>\n",
       "      <td>0</td>\n",
       "      <td>False</td>\n",
       "      <td>&lt;a href=\"http://twitter.com/download/iphone\" r...</td>\n",
       "      <td>@HillaryClinton he will do in one year all the...</td>\n",
       "      <td>2016-08-12 10:04:21.125</td>\n",
       "      <td>False</td>\n",
       "      <td>{'id': 44032624, 'id_str': '44032624', 'name':...</td>\n",
       "      <td>(HillaryClinton,)</td>\n",
       "      <td>()</td>\n",
       "    </tr>\n",
       "    <tr>\n",
       "      <th>2</th>\n",
       "      <td>clear deliberately throwing this racein 2007 h...</td>\n",
       "      <td>NaN</td>\n",
       "      <td>None</td>\n",
       "      <td>2016-08-12 10:04:30</td>\n",
       "      <td>{'hashtags': [{'text': 'CNN', 'indices': [0, 4...</td>\n",
       "      <td>None</td>\n",
       "      <td>0</td>\n",
       "      <td>False</td>\n",
       "      <td>low</td>\n",
       "      <td>None</td>\n",
       "      <td>...</td>\n",
       "      <td>NaN</td>\n",
       "      <td>0</td>\n",
       "      <td>False</td>\n",
       "      <td>&lt;a href=\"http://twitter.com\" rel=\"nofollow\"&gt;Tw...</td>\n",
       "      <td>#CNN #newday clear #Trump deliberately throwin...</td>\n",
       "      <td>2016-08-12 10:04:30.035</td>\n",
       "      <td>False</td>\n",
       "      <td>{'id': 769208504, 'id_str': '769208504', 'name...</td>\n",
       "      <td>()</td>\n",
       "      <td>(#CNN, #newday, #Trump, #ISIS)</td>\n",
       "    </tr>\n",
       "    <tr>\n",
       "      <th>3</th>\n",
       "      <td>you wouldnt recognize a lie if it came from y...</td>\n",
       "      <td>NaN</td>\n",
       "      <td>None</td>\n",
       "      <td>2016-08-12 10:04:46</td>\n",
       "      <td>{'hashtags': [{'text': 'NeverTrump', 'indices'...</td>\n",
       "      <td>None</td>\n",
       "      <td>0</td>\n",
       "      <td>False</td>\n",
       "      <td>low</td>\n",
       "      <td>None</td>\n",
       "      <td>...</td>\n",
       "      <td>7.639507e+17</td>\n",
       "      <td>0</td>\n",
       "      <td>False</td>\n",
       "      <td>&lt;a href=\"http://twitter.com/download/iphone\" r...</td>\n",
       "      <td>@realDonaldTrump, you wouldn't recognize a lie...</td>\n",
       "      <td>2016-08-12 10:04:46.265</td>\n",
       "      <td>False</td>\n",
       "      <td>{'id': 41043316, 'id_str': '41043316', 'name':...</td>\n",
       "      <td>(realDonaldTrump,)</td>\n",
       "      <td>(#NeverTrump,)</td>\n",
       "    </tr>\n",
       "    <tr>\n",
       "      <th>4</th>\n",
       "      <td>Kid you know suing someone Thats the most beau...</td>\n",
       "      <td>NaN</td>\n",
       "      <td>None</td>\n",
       "      <td>2016-08-12 10:04:48</td>\n",
       "      <td>{'hashtags': [], 'urls': [], 'user_mentions': ...</td>\n",
       "      <td>None</td>\n",
       "      <td>0</td>\n",
       "      <td>False</td>\n",
       "      <td>low</td>\n",
       "      <td>None</td>\n",
       "      <td>...</td>\n",
       "      <td>NaN</td>\n",
       "      <td>0</td>\n",
       "      <td>False</td>\n",
       "      <td>&lt;a href=\"http://twitter.com/download/iphone\" r...</td>\n",
       "      <td>\"Kid, you know, suing someone? Thats the most ...</td>\n",
       "      <td>2016-08-12 10:04:48.229</td>\n",
       "      <td>False</td>\n",
       "      <td>{'id': 762090248159371264, 'id_str': '76209024...</td>\n",
       "      <td>(funnyordie, realDonaldTrump)</td>\n",
       "      <td>()</td>\n",
       "    </tr>\n",
       "  </tbody>\n",
       "</table>\n",
       "<p>5 rows × 33 columns</p>\n",
       "</div>"
      ],
      "text/plain": [
       "                                           CleanText  contributors  \\\n",
       "0  \\n\\n\\nALL IN COLLUSION TOGETHER \\n\\n\\n\\n\\n\\n\\n...           NaN   \n",
       "1  he will do in one year all the things you shou...           NaN   \n",
       "2  clear deliberately throwing this racein 2007 h...           NaN   \n",
       "3   you wouldnt recognize a lie if it came from y...           NaN   \n",
       "4  Kid you know suing someone Thats the most beau...           NaN   \n",
       "\n",
       "  coordinates          created_at  \\\n",
       "0        None 2016-08-12 10:04:02   \n",
       "1        None 2016-08-12 10:04:21   \n",
       "2        None 2016-08-12 10:04:30   \n",
       "3        None 2016-08-12 10:04:46   \n",
       "4        None 2016-08-12 10:04:48   \n",
       "\n",
       "                                            entities extended_entities  \\\n",
       "0  {'hashtags': [{'text': 'NOJUSTICE', 'indices':...              None   \n",
       "1  {'hashtags': [], 'urls': [], 'user_mentions': ...              None   \n",
       "2  {'hashtags': [{'text': 'CNN', 'indices': [0, 4...              None   \n",
       "3  {'hashtags': [{'text': 'NeverTrump', 'indices'...              None   \n",
       "4  {'hashtags': [], 'urls': [], 'user_mentions': ...              None   \n",
       "\n",
       "   favorite_count  favorited filter_level   geo  \\\n",
       "0               0      False          low  None   \n",
       "1               0      False          low  None   \n",
       "2               0      False          low  None   \n",
       "3               0      False          low  None   \n",
       "4               0      False          low  None   \n",
       "\n",
       "                ...                quoted_status_id_str  retweet_count  \\\n",
       "0               ...                                 NaN              0   \n",
       "1               ...                                 NaN              0   \n",
       "2               ...                                 NaN              0   \n",
       "3               ...                        7.639507e+17              0   \n",
       "4               ...                                 NaN              0   \n",
       "\n",
       "  retweeted                                             source  \\\n",
       "0     False  <a href=\"http://twitter.com/download/android\" ...   \n",
       "1     False  <a href=\"http://twitter.com/download/iphone\" r...   \n",
       "2     False  <a href=\"http://twitter.com\" rel=\"nofollow\">Tw...   \n",
       "3     False  <a href=\"http://twitter.com/download/iphone\" r...   \n",
       "4     False  <a href=\"http://twitter.com/download/iphone\" r...   \n",
       "\n",
       "                                                text            timestamp_ms  \\\n",
       "0  @BarackObama \\n@FBI\\n@LORETTALYNCH \\nALL IN CO... 2016-08-12 10:04:02.194   \n",
       "1  @HillaryClinton he will do in one year all the... 2016-08-12 10:04:21.125   \n",
       "2  #CNN #newday clear #Trump deliberately throwin... 2016-08-12 10:04:30.035   \n",
       "3  @realDonaldTrump, you wouldn't recognize a lie... 2016-08-12 10:04:46.265   \n",
       "4  \"Kid, you know, suing someone? Thats the most ... 2016-08-12 10:04:48.229   \n",
       "\n",
       "   truncated                                               user  \\\n",
       "0      False  {'id': 82496193, 'id_str': '82496193', 'name':...   \n",
       "1      False  {'id': 44032624, 'id_str': '44032624', 'name':...   \n",
       "2      False  {'id': 769208504, 'id_str': '769208504', 'name...   \n",
       "3      False  {'id': 41043316, 'id_str': '41043316', 'name':...   \n",
       "4      False  {'id': 762090248159371264, 'id_str': '76209024...   \n",
       "\n",
       "                                            Mentions  \\\n",
       "0  (BarackObama, FBI, LORETTALYNCH, realDonaldTrump)   \n",
       "1                                  (HillaryClinton,)   \n",
       "2                                                 ()   \n",
       "3                                 (realDonaldTrump,)   \n",
       "4                      (funnyordie, realDonaldTrump)   \n",
       "\n",
       "                         Hashtags  \n",
       "0       (#NOJUSTICE, #TrumpPence)  \n",
       "1                              ()  \n",
       "2  (#CNN, #newday, #Trump, #ISIS)  \n",
       "3                  (#NeverTrump,)  \n",
       "4                              ()  \n",
       "\n",
       "[5 rows x 33 columns]"
      ]
     },
     "execution_count": 30,
     "metadata": {},
     "output_type": "execute_result"
    }
   ],
   "source": [
    "tweets.head()"
   ]
  },
  {
   "cell_type": "code",
   "execution_count": 18,
   "metadata": {},
   "outputs": [
    {
     "data": {
      "text/plain": [
       "False    46811\n",
       "Name: favorited, dtype: int64"
      ]
     },
     "execution_count": 18,
     "metadata": {},
     "output_type": "execute_result"
    }
   ],
   "source": [
    "tweets.favorited.value_counts()"
   ]
  },
  {
   "cell_type": "code",
   "execution_count": 21,
   "metadata": {},
   "outputs": [
    {
     "data": {
      "text/plain": [
       "False    46811\n",
       "Name: retweeted, dtype: int64"
      ]
     },
     "execution_count": 21,
     "metadata": {},
     "output_type": "execute_result"
    }
   ],
   "source": [
    "tweets.retweeted.value_counts()"
   ]
  },
  {
   "cell_type": "markdown",
   "metadata": {},
   "source": [
    "## Combinaties van hoe mentions en hashtags gebruikt worden"
   ]
  },
  {
   "cell_type": "code",
   "execution_count": 31,
   "metadata": {},
   "outputs": [
    {
     "data": {
      "text/plain": [
       "()                                                                                 10969\n",
       "(realDonaldTrump,)                                                                 10123\n",
       "(HillaryClinton,)                                                                   2235\n",
       "(realDonaldTrump, CNN)                                                               508\n",
       "(realDonaldTrump, nytimes)                                                           461\n",
       "(HillaryClinton, realDonaldTrump)                                                    329\n",
       "(realDonaldTrump, HillaryClinton)                                                    217\n",
       "(realDonaldTrump, seanhannity, GovMikeHuckabee)                                      175\n",
       "(FoxNews, HillaryClinton)                                                            120\n",
       "(FoxNews, realDonaldTrump)                                                           111\n",
       "(politico, realDonaldTrump)                                                          110\n",
       "(realDonaldTrump, zulu_out)                                                           80\n",
       "(KatrinaPierson, realDonaldTrump)                                                     75\n",
       "(FoxNews, HillaryClinton, realDonaldTrump)                                            69\n",
       "(CNN,)                                                                                62\n",
       "(seanhannity, realDonaldTrump)                                                        59\n",
       "(MuffinAndElliot, SenSanders, HillaryClinton)                                         57\n",
       "(realDonaldTrump, willspeakout)                                                       55\n",
       "(politico, HillaryClinton)                                                            49\n",
       "(seanhannity, HillaryClinton)                                                         49\n",
       "(realDonaldTrump, need2knowu, willspeakout)                                           49\n",
       "(realDonaldTrump, PaulaDuvall2)                                                       49\n",
       "(CNN, realDonaldTrump)                                                                48\n",
       "(realDonaldTrump, KatrinaPierson)                                                     48\n",
       "(davidaxelrod, realDonaldTrump)                                                       46\n",
       "(realDonaldTrump, EnemyWithinn, elsolarverde, nytimes)                                46\n",
       "(realDonaldTrump, elsolarverde)                                                       46\n",
       "(thehill, realDonaldTrump)                                                            43\n",
       "(Reince, realDonaldTrump)                                                             41\n",
       "(realdonaldtrump,)                                                                    41\n",
       "                                                                                   ...  \n",
       "(politico, HillaryClinton, DonaldTrump)                                                1\n",
       "(DanielBeerthuis, realDonaldTrump)                                                     1\n",
       "(ColMorrisDavis, KellyannePolls, GOP, BarackObama, realDonaldTrump, smerconish)        1\n",
       "(Pugs47, realDonaldTrump)                                                              1\n",
       "(SMTM2016, NStaabcu, nathanTbernard, realDonaldTrump)                                  1\n",
       "(jackbgoode1, realDonaldTrump)                                                         1\n",
       "(Reince, HillaryClinton)                                                               1\n",
       "(Butche999, Morning_Joe, HillaryClinton)                                               1\n",
       "(dejaxsun, jamesplake721, Charleston_Kat, myGianLuca)                                  1\n",
       "(CherylCkfrancis, ProTrump001, I_AmAmerica, realDonaldTrump)                           1\n",
       "(TheBillyWest, MorboTNN, realDonaldTrump)                                              1\n",
       "(vancouverboomer, realDonaldTrump)                                                     1\n",
       "(Harlan, LindaSuhler)                                                                  1\n",
       "(washingtonpost, robertoharrow)                                                        1\n",
       "(Lawrence, DailyContessa, realDonaldTrump)                                             1\n",
       "(VoteHillary2016, realDonaldTrump)                                                     1\n",
       "(CNN, HillaryClinton, ShashiTharoor)                                                   1\n",
       "(OwenNkomo, realDonaldTrump)                                                           1\n",
       "(PAGOP, realDonaldTrump, PatToomey, GOP, pikegop)                                      1\n",
       "(nvdems,)                                                                              1\n",
       "(KenYounos, realDonaldTrump)                                                           1\n",
       "(mike_pence, ScottWalker, SpeakerRyan)                                                 1\n",
       "(realDonaldTrump, SarahPalinUSA, ParisHilton)                                          1\n",
       "(SharonCarbine, realDonaldTrump)                                                       1\n",
       "(claudiascompan1, PatriotByGod)                                                        1\n",
       "(DierksSterling, bamasevere, realDonaldTrump)                                          1\n",
       "(HillaryClinton, Smmgrandma)                                                           1\n",
       "(SadlyCatless, realDonaldTrump, cherokeesher2, rinkydnk2, pharris830)                  1\n",
       "(CerebralDiva, bensonram, FoxNews, HillaryClinton)                                     1\n",
       "(dagenmcdowell, KatTimpf, Deadlyalpaca, HeyTammyBruce)                                 1\n",
       "Name: Mentions, Length: 13830, dtype: int64"
      ]
     },
     "execution_count": 31,
     "metadata": {},
     "output_type": "execute_result"
    }
   ],
   "source": [
    "tweets.Mentions.value_counts()"
   ]
  },
  {
   "cell_type": "code",
   "execution_count": 33,
   "metadata": {},
   "outputs": [
    {
     "data": {
      "text/plain": [
       "()                                                                                                                                                            29207\n",
       "(#Trump,)                                                                                                                                                      1400\n",
       "(#NeverTrump,)                                                                                                                                                  633\n",
       "(#MAGA,)                                                                                                                                                        434\n",
       "(#ImWithHer,)                                                                                                                                                   366\n",
       "(#TrumpPence16,)                                                                                                                                                315\n",
       "(#NeverHillary,)                                                                                                                                                211\n",
       "(#CrookedHillary,)                                                                                                                                              210\n",
       "(#trump,)                                                                                                                                                       204\n",
       "(#DonaldTrump,)                                                                                                                                                 159\n",
       "(#Florida, #Ohio, #PA, #VT, #IN, #VA, #TX, #NY, #WA, #CA, #IL, #TN, #WI, #NC, #MI, #GA.)                                                                        145\n",
       "(#Hillary,)                                                                                                                                                     122\n",
       "(#nevertrump,)                                                                                                                                                  103\n",
       "(#HillaryClinton,)                                                                                                                                               92\n",
       "(#ImWithHer, #DealMeIn, #DonateToHillary, #HillaryStrong, #GOPAreMurderers, #GOPEndTimes, #AlwaysWithHillary)                                                    81\n",
       "(#TRUMP,)                                                                                                                                                        77\n",
       "(#DumpTrump,)                                                                                                                                                    70\n",
       "(#MakeAmericaGreatAgain,)                                                                                                                                        53\n",
       "(#startrek, #donaldtrump)                                                                                                                                        52\n",
       "(#imwithher,)                                                                                                                                                    51\n",
       "(#Trump's,)                                                                                                                                                      50\n",
       "(#neverTrump,)                                                                                                                                                   49\n",
       "(#KatrinaPiersonHistory,)                                                                                                                                        38\n",
       "(#FireTrumpIn4Words,)                                                                                                                                            38\n",
       "(#,)                                                                                                                                                             38\n",
       "(#Trump.,)                                                                                                                                                       38\n",
       "(#OReillyFactor, #maga, #TrumpPence16)                                                                                                                           36\n",
       "(#TrumpTrain,)                                                                                                                                                   36\n",
       "(#ManyPeopleAreSaying,)                                                                                                                                          34\n",
       "(#GOP,)                                                                                                                                                          34\n",
       "                                                                                                                                                              ...  \n",
       "(#RIPBeliebers, #рак, #암, #Trump, #КазахиФолловятАллаха, #YoungForeverBTS, #WHATSUP1D, #ТомьУфа, #RIPBeliebers, #받아본_오해, #표절소년단, #수고했어_인피니트, #탐라너머_그분_트친소)        1\n",
       "(#BernieOrBust, #Election2016, #HillaryClinton)                                                                                                                   1\n",
       "(#NeverTrump, #NeverFoxNews)                                                                                                                                      1\n",
       "(#MakeAmericaGreatAgain, #CSPAN, #Clinton#Leak#Bernie)                                                                                                            1\n",
       "(#ShaylAttkisson=, #Media, #DonaldTrump\", #Millennials, #Independents)                                                                                            1\n",
       "(#1), #2))                                                                                                                                                        1\n",
       "(#MAGA, #Great)                                                                                                                                                   1\n",
       "(#Trump, #HRC?)                                                                                                                                                   1\n",
       "(#🐂💩,)                                                                                                                                                            1\n",
       "(#WTF, #STUPID!)                                                                                                                                                  1\n",
       "(#CrookedHillary-Destroys, #VOTETRUMP)                                                                                                                            1\n",
       "(#crookedhilary,)                                                                                                                                                 1\n",
       "(#Not, #Hillary,)                                                                                                                                                 1\n",
       "(#5&gt;ClintonMafia, #HillaryClinton, #PJNET, #media)                                                                                                             1\n",
       "(#Hillary's, #MI, #TPP, #LameDuck, #ClintonWeaselWords)                                                                                                           1\n",
       "(#BREAKING, #soreloser, #badsport, #Trump2016, #Rio2016)                                                                                                          1\n",
       "(#LoserDonald, #TYTLive)                                                                                                                                          1\n",
       "(#ImWithHer, #rip)                                                                                                                                                1\n",
       "(#GOPLeaks,)                                                                                                                                                      1\n",
       "(#NeverHillary, #Snakes, #TrumpforPotus)                                                                                                                          1\n",
       "(#NeverHillary, #CrookedHillary, #HillaryHealth)                                                                                                                  1\n",
       "(#thelesserevil,)                                                                                                                                                 1\n",
       "(#weird?,)                                                                                                                                                        1\n",
       "(#TRUTH, #TrumpPence16, #MAGA)                                                                                                                                    1\n",
       "(#lil,)                                                                                                                                                           1\n",
       "(#NeverHillary., #TrumpPence16)                                                                                                                                   1\n",
       "(#msnbc, #Cnn, #Fox, #Trump, #GOP)                                                                                                                                1\n",
       "(#Republicans, #2ndAmendment, #1stAmendment, #FreeSpeech)                                                                                                         1\n",
       "(#StayHome, #MAGA, #2A)                                                                                                                                           1\n",
       "(#Montana, #GOP, #homosexuality)                                                                                                                                  1\n",
       "Name: Hashtags, Length: 9512, dtype: int64"
      ]
     },
     "execution_count": 33,
     "metadata": {},
     "output_type": "execute_result"
    }
   ],
   "source": [
    "tweets.Hashtags.value_counts()"
   ]
  }
 ],
 "metadata": {
  "kernelspec": {
   "display_name": "Python 3",
   "language": "python",
   "name": "python3"
  },
  "language_info": {
   "codemirror_mode": {
    "name": "ipython",
    "version": 3
   },
   "file_extension": ".py",
   "mimetype": "text/x-python",
   "name": "python",
   "nbconvert_exporter": "python",
   "pygments_lexer": "ipython3",
   "version": "3.6.6"
  }
 },
 "nbformat": 4,
 "nbformat_minor": 2
}
